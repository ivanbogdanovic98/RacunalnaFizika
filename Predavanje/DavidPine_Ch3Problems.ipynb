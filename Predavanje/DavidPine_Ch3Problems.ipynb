{
 "cells": [
  {
   "cell_type": "code",
   "execution_count": null,
   "id": "c07fd1d1-4262-4d62-8152-fd440c4b223d",
   "metadata": {},
   "outputs": [],
   "source": [
    "#problems\n",
    "#3.1.4.\n",
    "import numpy as np\n",
    "\n",
    "g = 9.8\n",
    "h0 = 10\n",
    "y = np.arange(10,0,-0.5)\n",
    "t = np.sqrt((2*(h0-y))/g)\n",
    "\n",
    "print(\"y = \" + str(y))\n",
    "print(\"t = \" + str(t))\n",
    "\n",
    "v = (y[1:]-y[:-1])/(t[1:]-t[:-1])\n",
    "print(\"v = \" + str(v))\n",
    "\n",
    "newt=(t[1:]+t[:-1])/2\n",
    "print(\"prosjek vremena = \" + str(newt))\n",
    "\n",
    "a = (v[1:]-v[:-1])/(newt[1:]-newt[:-1])\n",
    "print(\"a = \" + str(a))"
   ]
  },
  {
   "cell_type": "code",
   "execution_count": null,
   "id": "b9a8d69c-da6b-4af6-8762-6cd15a89a47a",
   "metadata": {},
   "outputs": [],
   "source": [
    "#3.1.5.\n",
    "#a)\n",
    "M = np.zeros((8,8))\n",
    "M[0],M[7]=np.ones(8),np.ones(8)\n",
    "M[:,0],M[:,7]=np.ones(8),np.ones(8)\n",
    "\n",
    "print(M)"
   ]
  },
  {
   "cell_type": "code",
   "execution_count": null,
   "id": "3e4f3010-33b1-4d42-94ca-154d073192ba",
   "metadata": {},
   "outputs": [],
   "source": [
    "#b)\n",
    "M = np.zeros((8, 8), dtype=int)\n",
    "\n",
    "for i in range(8):\n",
    "    for j in range(8):\n",
    "        if (i + j) % 2 == 0:\n",
    "            M[i, j] = 1\n",
    "\n",
    "print(M)"
   ]
  },
  {
   "cell_type": "code",
   "execution_count": null,
   "id": "644abc97-9b77-493c-90a7-98e266e31603",
   "metadata": {},
   "outputs": [],
   "source": [
    "#c)\n",
    "c = np.arange(2, 50, 5)\n",
    "print(c)\n",
    "\n",
    "for i in range(10):\n",
    "    if c[i] % 3 != 0:\n",
    "        c[i] = -c[i]\n",
    "\n",
    "print(c)"
   ]
  },
  {
   "cell_type": "code",
   "execution_count": null,
   "id": "41f19c05-7ea2-4e00-9dd7-fdb631576c99",
   "metadata": {},
   "outputs": [],
   "source": [
    "#d)\n",
    "import numpy as np\n",
    "M = np.zeros((8,8))\n",
    "M[0],M[7]=np.ones(8),np.ones(8)\n",
    "M[:,0],M[:,7]=np.ones(8),np.ones(8)\n",
    "\n",
    "c = np.arange(2, 50, 5)\n",
    "\n",
    "for i in range(10):\n",
    "    if c[i] % 3 != 0:\n",
    "        c[i] = -c[i]\n",
    "\n",
    "print(\"Size of M: \"+str(np.size(M))+\" Mean of M: \"+str(np.mean(M))+\"  Standard deviation of M: \"+str(np.std(M)))\n",
    "print(\"Size of c: \"+str(np.size(c))+\" Mean of c: \"+str(np.mean(c))+\"  Standard deviation of c: \"+str(np.std(c)))"
   ]
  },
  {
   "cell_type": "code",
   "execution_count": null,
   "id": "b321578d-5441-4dcb-b5ef-d6bd79d5555a",
   "metadata": {},
   "outputs": [],
   "source": []
  }
 ],
 "metadata": {
  "kernelspec": {
   "display_name": "Python 3 (ipykernel)",
   "language": "python",
   "name": "python3"
  },
  "language_info": {
   "codemirror_mode": {
    "name": "ipython",
    "version": 3
   },
   "file_extension": ".py",
   "mimetype": "text/x-python",
   "name": "python",
   "nbconvert_exporter": "python",
   "pygments_lexer": "ipython3",
   "version": "3.12.3"
  }
 },
 "nbformat": 4,
 "nbformat_minor": 5
}
