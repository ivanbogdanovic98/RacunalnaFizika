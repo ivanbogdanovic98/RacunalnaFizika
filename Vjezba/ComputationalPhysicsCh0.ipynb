{
 "cells": [
  {
   "cell_type": "code",
   "execution_count": null,
   "id": "55a9fb21-a5ef-4aea-903b-daf29b5f7de1",
   "metadata": {},
   "outputs": [],
   "source": [
    "import numpy as np "
   ]
  },
  {
   "cell_type": "code",
   "execution_count": null,
   "id": "28d6754e-a635-459a-b537-be88b8b65033",
   "metadata": {},
   "outputs": [],
   "source": [
    "!pip install numpy"
   ]
  },
  {
   "cell_type": "code",
   "execution_count": null,
   "id": "69981ffb-62e8-4d28-8bf5-322f45e08ada",
   "metadata": {},
   "outputs": [],
   "source": [
    "x = np.array([1,2,3,4,5])\n",
    "y = x+3\n",
    "plot(x,y,'rx')"
   ]
  },
  {
   "cell_type": "code",
   "execution_count": null,
   "id": "aaf034c3-954c-441f-a6f5-b8e6efe5833c",
   "metadata": {},
   "outputs": [],
   "source": [
    "import matplotlib.pyplot as plt"
   ]
  },
  {
   "cell_type": "code",
   "execution_count": null,
   "id": "54b6af1a-4947-4451-bb22-bbc54436a527",
   "metadata": {},
   "outputs": [],
   "source": [
    "%pip install matplotlib"
   ]
  },
  {
   "cell_type": "code",
   "execution_count": null,
   "id": "f5ad654c-fddf-44d6-8f08-efad9f303f44",
   "metadata": {},
   "outputs": [],
   "source": []
  },
  {
   "cell_type": "code",
   "execution_count": null,
   "id": "06f98e17-792d-46f0-abd3-cedfaef206cd",
   "metadata": {},
   "outputs": [],
   "source": [
    "import matplotlib.pyplot as plt\n",
    "x = np.array([1,2,3,4,5])\n",
    "y = x+3\n",
    "plt.plot(x,y,'rx')\n",
    "plt.title('My first graph')\n",
    "plt.xlabel('Time (fortnights)')\n",
    "plt.ylabel('Distance (furlongs)')\n",
    "plt.xlim(0, 6)\n",
    "plt.ylim(0, 10)"
   ]
  },
  {
   "cell_type": "code",
   "execution_count": null,
   "id": "a8474d1d-b8f8-462f-9da9-dafa3416668c",
   "metadata": {},
   "outputs": [],
   "source": [
    "x = np.array([1,2,3,4,5])\n",
    "y = x+3\n",
    "plt.plot(x,y,'rx')"
   ]
  },
  {
   "cell_type": "code",
   "execution_count": null,
   "id": "63f89ff5-b7d4-4c74-b401-798f2ad9b250",
   "metadata": {
    "scrolled": true
   },
   "outputs": [],
   "source": [
    "time = np.linspace(0.0, 10.0, 100)\n",
    "height = np.exp(-time/3.0)*np.sin(time*3)\n",
    "plt.figure()\n",
    "plt.plot(time, height, 'm-^')\n",
    "plt.plot(time, 0.3*np.sin(time*3), 'g-')\n",
    "plt.legend(['damped', 'constant amplitude'], loc='upper right')\n",
    "plt.xlabel('Time (s)')"
   ]
  },
  {
   "cell_type": "code",
   "execution_count": null,
   "id": "fdef3c1f-50d4-4e12-b3b2-fd692b7c8130",
   "metadata": {},
   "outputs": [],
   "source": [
    "%pip install scipy"
   ]
  },
  {
   "cell_type": "code",
   "execution_count": null,
   "id": "6b985905-0e73-4129-bc58-6b273c171423",
   "metadata": {},
   "outputs": [],
   "source": [
    "import scipy as sc\n",
    "from scipy import linalg"
   ]
  },
  {
   "cell_type": "code",
   "execution_count": null,
   "id": "18b5215b-201b-4150-bfe0-a72d5646afcd",
   "metadata": {},
   "outputs": [],
   "source": [
    "A = np.matrix([ [-13,2,4], [2,-11,6], [4,6,-15] ])\n",
    "B = np.array([5,-10,5])\n",
    "sc.linalg.solve(A,B)"
   ]
  },
  {
   "cell_type": "code",
   "execution_count": null,
   "id": "7179f9b5-8399-4018-bbb8-a4df6605681c",
   "metadata": {},
   "outputs": [],
   "source": []
  }
 ],
 "metadata": {
  "kernelspec": {
   "display_name": "Python 3 (ipykernel)",
   "language": "python",
   "name": "python3"
  },
  "language_info": {
   "codemirror_mode": {
    "name": "ipython",
    "version": 3
   },
   "file_extension": ".py",
   "mimetype": "text/x-python",
   "name": "python",
   "nbconvert_exporter": "python",
   "pygments_lexer": "ipython3",
   "version": "3.12.3"
  }
 },
 "nbformat": 4,
 "nbformat_minor": 5
}
