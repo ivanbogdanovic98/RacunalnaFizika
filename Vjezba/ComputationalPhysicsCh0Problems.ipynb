{
 "cells": [
  {
   "cell_type": "code",
   "execution_count": null,
   "id": "b5a0c8f7-32a7-4c92-93c1-034878848c13",
   "metadata": {},
   "outputs": [],
   "source": [
    "#Problem 0-0\n",
    "import numpy as np\n",
    "import matplotlib.pyplot as plt\n",
    "\n",
    "x = np.linspace(0.0, 10.0, 100)\n",
    "a = x**4*np.exp(-2*x)\n",
    "b = (x**4*np.exp(-x)*np.sin(x**2))**2\n",
    "plt.figure()\n",
    "plt.plot(x,a,'r-')\n",
    "plt.plot(x,b/70,'g-')\n",
    "plt.legend(['a','b'], loc='upper right')\n",
    "plt.xlabel('x-os')\n",
    "plt.title('Problem 0-0')"
   ]
  },
  {
   "cell_type": "code",
   "execution_count": null,
   "id": "76505a1c-21be-4a9f-b7e3-22d13b0d379b",
   "metadata": {},
   "outputs": [],
   "source": [
    "#Problem 0-4\n",
    "import scipy as sc\n",
    "from scipy import linalg\n",
    "from IPython.display import display, Math\n",
    "\n",
    "M=np.matrix([[2,-1,0,0],[-1,2,-1,0],[0,-1,2,-1],[0,0,-1,2]])\n",
    "la, v = sc.linalg.eig(M)\n",
    "display(Math(r'\\omega = ' + str(la)))"
   ]
  }
 ],
 "metadata": {
  "kernelspec": {
   "display_name": "Python 3 (ipykernel)",
   "language": "python",
   "name": "python3"
  },
  "language_info": {
   "codemirror_mode": {
    "name": "ipython",
    "version": 3
   },
   "file_extension": ".py",
   "mimetype": "text/x-python",
   "name": "python",
   "nbconvert_exporter": "python",
   "pygments_lexer": "ipython3",
   "version": "3.12.3"
  }
 },
 "nbformat": 4,
 "nbformat_minor": 5
}
